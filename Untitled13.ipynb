{
  "cells": [
    {
      "cell_type": "code",
      "execution_count": null,
      "metadata": {
        "id": "ZCHUZuaRv8Su"
      },
      "outputs": [],
      "source": [
        "import numpy as np\n",
        "import pandas as pd\n",
        "import matplotlib.pyplot as plt\n",
        "import seaborn as sns"
      ]
    },
    {
      "cell_type": "code",
      "execution_count": null,
      "metadata": {
        "id": "aTC_v78wx1uf"
      },
      "outputs": [],
      "source": [
        "a=pd.read_csv('/content/p1.csv')"
      ]
    },
    {
      "cell_type": "code",
      "execution_count": null,
      "metadata": {
        "colab": {
          "base_uri": "https://localhost:8080/",
          "height": 342
        },
        "id": "GFWD8cHayDc7",
        "outputId": "a6101ce6-cdb5-49f1-b328-1e9b89b0ef05"
      },
      "outputs": [],
      "source": [
        "a.head(5)"
      ]
    },
    {
      "cell_type": "code",
      "execution_count": null,
      "metadata": {
        "colab": {
          "base_uri": "https://localhost:8080/",
          "height": 743
        },
        "id": "WbJNTeGVyFxG",
        "outputId": "902be025-e007-4d01-f6e6-3932c3ab129c"
      },
      "outputs": [],
      "source": [
        "a.isnull().sum()"
      ]
    },
    {
      "cell_type": "code",
      "execution_count": null,
      "metadata": {
        "colab": {
          "base_uri": "https://localhost:8080/",
          "height": 342
        },
        "id": "s-6ObN5P7rc-",
        "outputId": "a6caf1fb-d2d6-4cdc-ab47-c58dce837c8b"
      },
      "outputs": [],
      "source": [
        "a.tail(5)"
      ]
    },
    {
      "cell_type": "code",
      "execution_count": null,
      "metadata": {
        "colab": {
          "base_uri": "https://localhost:8080/"
        },
        "id": "AQTNE2xw8Ewk",
        "outputId": "5d58966a-2492-4766-eba4-b41ff43a6aa9"
      },
      "outputs": [],
      "source": [
        "a.shape"
      ]
    },
    {
      "cell_type": "code",
      "execution_count": null,
      "metadata": {
        "colab": {
          "base_uri": "https://localhost:8080/",
          "height": 743
        },
        "id": "0e0_y79k824P",
        "outputId": "aa6ce8a9-b499-4461-c0d2-651533823948"
      },
      "outputs": [],
      "source": [
        "a.dtypes"
      ]
    },
    {
      "cell_type": "code",
      "execution_count": null,
      "metadata": {
        "colab": {
          "base_uri": "https://localhost:8080/"
        },
        "id": "R1ciHfeo84NB",
        "outputId": "fe4afeea-758f-4db2-8a61-b469bec25257"
      },
      "outputs": [],
      "source": [
        "a.info()"
      ]
    },
    {
      "cell_type": "code",
      "execution_count": null,
      "metadata": {
        "colab": {
          "base_uri": "https://localhost:8080/",
          "height": 300
        },
        "id": "vgUnBRFb853Z",
        "outputId": "ba734e9a-72bb-4784-c373-46a6d4c54b1c"
      },
      "outputs": [],
      "source": [
        "a.describe()"
      ]
    },
    {
      "cell_type": "code",
      "execution_count": null,
      "metadata": {
        "colab": {
          "base_uri": "https://localhost:8080/",
          "height": 212
        },
        "id": "Sm4763BM88QR",
        "outputId": "3d0b1507-a8ae-4ecf-a4d0-f92be916df9c"
      },
      "outputs": [],
      "source": [
        "a.describe(include='object')"
      ]
    },
    {
      "cell_type": "code",
      "execution_count": null,
      "metadata": {
        "colab": {
          "base_uri": "https://localhost:8080/",
          "height": 424
        },
        "id": "656lFLpw9H8j",
        "outputId": "3efed711-81b4-469a-b1f0-4486dae25031"
      },
      "outputs": [],
      "source": [
        "a[['MonthlyCharges','TotalCharges']]"
      ]
    },
    {
      "cell_type": "code",
      "execution_count": null,
      "metadata": {
        "colab": {
          "base_uri": "https://localhost:8080/",
          "height": 743
        },
        "id": "YiGd59WT9Ly8",
        "outputId": "b8d89d82-e31b-4c57-aabf-7f031bf4cdcc"
      },
      "outputs": [],
      "source": [
        "a.iloc[3]"
      ]
    },
    {
      "cell_type": "code",
      "execution_count": null,
      "metadata": {
        "colab": {
          "base_uri": "https://localhost:8080/",
          "height": 743
        },
        "id": "lNcJeo0H9PfV",
        "outputId": "1cdd4762-1b33-4632-8e08-e4aa982e553d"
      },
      "outputs": [],
      "source": [
        "a.loc[1]"
      ]
    },
    {
      "cell_type": "code",
      "execution_count": null,
      "metadata": {
        "colab": {
          "base_uri": "https://localhost:8080/"
        },
        "id": "7SwBiLqn9SbQ",
        "outputId": "56d2625a-dfd1-4d09-b3b4-d36ee30bb6d8"
      },
      "outputs": [],
      "source": [
        "a.loc[3,'tenure']"
      ]
    },
    {
      "cell_type": "code",
      "execution_count": null,
      "metadata": {
        "colab": {
          "base_uri": "https://localhost:8080/",
          "height": 617
        },
        "id": "2B8sIv7M9VDy",
        "outputId": "c0d29fec-a28d-4e2a-868d-a76c7cf49913"
      },
      "outputs": [],
      "source": [
        "a[a['tenure']>5]"
      ]
    },
    {
      "cell_type": "code",
      "execution_count": null,
      "metadata": {
        "colab": {
          "base_uri": "https://localhost:8080/",
          "height": 649
        },
        "id": "-647JqP59X33",
        "outputId": "63cce849-dd1c-4932-e23a-a89e554ea4bb"
      },
      "outputs": [],
      "source": [
        "a.set_index('tenure')"
      ]
    },
    {
      "cell_type": "code",
      "execution_count": null,
      "metadata": {
        "colab": {
          "base_uri": "https://localhost:8080/",
          "height": 617
        },
        "id": "wjyJW0kJ9asV",
        "outputId": "9aad1c4e-ce89-4b6d-af7b-609e98fc4b48"
      },
      "outputs": [],
      "source": [
        "a.drop_duplicates()"
      ]
    },
    {
      "cell_type": "code",
      "execution_count": null,
      "metadata": {
        "colab": {
          "base_uri": "https://localhost:8080/",
          "height": 617
        },
        "id": "Iz1ToTCN9fm7",
        "outputId": "dd1123ee-9fe9-4ebd-8326-bdf1eaa04627"
      },
      "outputs": [],
      "source": [
        "a.reset_index()"
      ]
    },
    {
      "cell_type": "code",
      "execution_count": null,
      "metadata": {
        "colab": {
          "base_uri": "https://localhost:8080/"
        },
        "id": "XxoVq9Ql9pye",
        "outputId": "6ca5bd51-17bc-435b-b114-362675b6c292"
      },
      "outputs": [],
      "source": [
        "a.select_dtypes(include='object').columns\n"
      ]
    },
    {
      "cell_type": "code",
      "execution_count": null,
      "metadata": {
        "colab": {
          "base_uri": "https://localhost:8080/"
        },
        "id": "64Jvu15T9xfU",
        "outputId": "b53bd5ba-2724-4179-ba97-2d6569ce1c28"
      },
      "outputs": [],
      "source": [
        "for col in a.select_dtypes(include='object').columns:\n",
        "    print(f\"{col} → {a[col].unique()}\")"
      ]
    },
    {
      "cell_type": "code",
      "execution_count": null,
      "metadata": {
        "id": "NFP5Ulcm90Lv"
      },
      "outputs": [],
      "source": [
        "import pandas as pd\n",
        "from sklearn.preprocessing import LabelEncoder,OneHotEncoder"
      ]
    },
    {
      "cell_type": "code",
      "execution_count": null,
      "metadata": {
        "colab": {
          "base_uri": "https://localhost:8080/"
        },
        "id": "NyVNNAZo-I3V",
        "outputId": "2952a3d5-5957-436b-8250-c88e86aaa63f"
      },
      "outputs": [],
      "source": [
        "a = pd.DataFrame({'gender': ['Male','Female']})\n",
        "le = LabelEncoder()\n",
        "a['gender_new'] = le.fit_transform(a['gender'])\n",
        "print(a)"
      ]
    },
    {
      "cell_type": "code",
      "execution_count": null,
      "metadata": {
        "colab": {
          "base_uri": "https://localhost:8080/"
        },
        "id": "XHS_F4PC-JGW",
        "outputId": "df583755-ab28-4b85-b7a0-851ed21967fa"
      },
      "outputs": [],
      "source": [
        "a= pd.DataFrame({'Partner':['Yes','No']})\n",
        "le=LabelEncoder()\n",
        "a['Partner_new']= le.fit_transform(a['Partner'])\n",
        "print(a)"
      ]
    },
    {
      "cell_type": "code",
      "execution_count": null,
      "metadata": {
        "colab": {
          "base_uri": "https://localhost:8080/"
        },
        "id": "1FgscGvk92-C",
        "outputId": "1752137a-2bcb-4b44-affa-153e590ce075"
      },
      "outputs": [],
      "source": [
        "a = pd.DataFrame({'Dependents':['Yes','No']})\n",
        "le=LabelEncoder()\n",
        "a['Dependents_new']= le.fit_transform(a['Dependents'])\n",
        "print(a)"
      ]
    },
    {
      "cell_type": "code",
      "execution_count": null,
      "metadata": {
        "colab": {
          "base_uri": "https://localhost:8080/"
        },
        "id": "xgnAydHO95Tt",
        "outputId": "2fcc0398-713d-468d-ddee-d59208664bcd"
      },
      "outputs": [],
      "source": [
        "a=pd.DataFrame({'PhoneService':['Yes','No']})\n",
        "le=LabelEncoder()\n",
        "a['PhoneService_new']=le.fit_transform(a['PhoneService'])\n",
        "print(a)"
      ]
    },
    {
      "cell_type": "code",
      "execution_count": null,
      "metadata": {
        "colab": {
          "base_uri": "https://localhost:8080/"
        },
        "id": "y15QHl7x97dr",
        "outputId": "c3ee58c5-a431-4924-babf-aa63473766c2"
      },
      "outputs": [],
      "source": [
        "a=pd.DataFrame({'OnlineSecurity':['Yes','No']})\n",
        "le=LabelEncoder()\n",
        "a['OnlineSecurity_new']=le.fit_transform(a['OnlineSecurity'])\n",
        "print(a)"
      ]
    },
    {
      "cell_type": "code",
      "execution_count": null,
      "metadata": {
        "colab": {
          "base_uri": "https://localhost:8080/"
        },
        "id": "hPMXkgRE99gB",
        "outputId": "16dc62c2-e2cc-4c45-c33d-de4cc3621321"
      },
      "outputs": [],
      "source": [
        "a=pd.DataFrame({'TechSupport':['Yes','No']})\n",
        "le=LabelEncoder()\n",
        "a['TechSupport_new']=le.fit_transform(a['TechSupport'])\n",
        "print(a)\n",
        "a=pd.DataFrame({'DeviceProtection':['Yes','No']})\n",
        "le=LabelEncoder()\n",
        "a['DeviceProtection_new']=le.fit_transform(a['DeviceProtection'])\n",
        "print(a)\n",
        "\n",
        "a=pd.DataFrame({'InternetService':['Fiber optic','DSL']})\n",
        "le=LabelEncoder()\n",
        "a['InternetService_new']=le.fit_transform(a['InternetService'])\n",
        "print(a)\n",
        "a=pd.DataFrame({'MultipleLines':['No phone service','Yes','No']})\n",
        "le=LabelEncoder()\n",
        "a['MultipleLines_new']=le.fit_transform(a['MultipleLines'])\n",
        "print(a)\n",
        "\n",
        "a=pd.DataFrame({'StreamingTV':['Yes','No']})\n",
        "le=LabelEncoder()\n",
        "a['StreamingTV_new']=le.fit_transform(a['StreamingTV'])\n",
        "print(a)\n",
        "a=pd.DataFrame({'StreamingMovies':['Yes','No']})\n",
        "le=LabelEncoder()\n",
        "a['StreamingMovies_new']=le.fit_transform(a['StreamingMovies'])\n",
        "print(a)\n",
        "\n"
      ]
    },
    {
      "cell_type": "code",
      "execution_count": null,
      "metadata": {
        "colab": {
          "base_uri": "https://localhost:8080/"
        },
        "id": "WzKxMXhH9_qm",
        "outputId": "4cba9d89-2214-42eb-df85-298e69bdc4a3"
      },
      "outputs": [],
      "source": [
        "a=pd.DataFrame({'Contract':['Month-to-month','One year','Two year']})\n",
        "le=LabelEncoder()\n",
        "a['Contract_new']=le.fit_transform(a['Contract'])\n",
        "print(a)\n",
        "a=pd.DataFrame({'PaperlessBilling':['Yes','No']})\n",
        "le=LabelEncoder()\n",
        "a['PaperlessBilling_new']=le.fit_transform(a['PaperlessBilling'])\n",
        "print(a)\n",
        "a=pd.DataFrame({'PaymentMethod':['Electronic check','Mailed check','Bank transfer (automatic)','Credit card (automatic)']})\n",
        "le=LabelEncoder()\n",
        "a['PaymentMethod_new']=le.fit_transform(a['PaymentMethod'])\n",
        "print(a)\n",
        "a=pd.DataFrame({'Churn':['Yes','No']})\n",
        "le=LabelEncoder()\n",
        "a['Churn_new']=le.fit_transform(a['Churn'])\n",
        "print(a)"
      ]
    },
    {
      "cell_type": "code",
      "execution_count": null,
      "metadata": {
        "colab": {
          "base_uri": "https://localhost:8080/",
          "height": 617
        },
        "id": "4PaO5Czg-RnH",
        "outputId": "220f921d-3432-4104-f4a4-0dee18dc427d"
      },
      "outputs": [],
      "source": [
        "a = pd.read_csv('/content/p1.csv')\n",
        "a.drop(['gender'], axis=1)"
      ]
    },
    {
      "cell_type": "code",
      "execution_count": null,
      "metadata": {
        "id": "9Akb84wk-BwH"
      },
      "outputs": [],
      "source": [
        "a.columns = a.columns.str.strip().str.lower().str.replace(' ', '_')\n",
        "cat_cols = [ 'partner', 'dependents', 'phoneservice', 'multiplelines',\n",
        "            'internetservice', 'onlinesecurity', 'onlinebackup', 'deviceprotection',\n",
        "            'techsupport', 'streamingtv', 'streamingmovies', 'contract',\n",
        "            'paperlessbilling', 'paymentmethod', 'churn']\n",
        "for col in cat_cols:\n",
        "    le = LabelEncoder()\n",
        "    a[col + '_new'] = le.fit_transform(a[col])"
      ]
    },
    {
      "cell_type": "code",
      "execution_count": null,
      "metadata": {
        "colab": {
          "base_uri": "https://localhost:8080/",
          "height": 290
        },
        "id": "e3e38c02",
        "outputId": "524ebfa8-cc60-4c4e-9b0c-06954546a9ee"
      },
      "outputs": [],
      "source": [
        "a=pd.read_csv('/content/p1.csv')\n",
        "a.drop(['customerID'], axis=1,inplace=True)\n",
        "a.columns = a.columns.str.strip().str.lower().str.replace(' ', '_')\n",
        "cat_cols = ['gender', 'partner', 'dependents', 'phoneservice', 'multiplelines',\n",
        "            'internetservice', 'onlinesecurity', 'onlinebackup', 'deviceprotection',\n",
        "            'techsupport', 'streamingtv', 'streamingmovies', 'contract',\n",
        "            'paperlessbilling', 'paymentmethod', 'churn']\n",
        "for col in cat_cols:\n",
        "    le = LabelEncoder()\n",
        "    a[col + '_new'] = le.fit_transform(a[col])\n",
        "display(a.head())"
      ]
    },
    {
      "cell_type": "code",
      "execution_count": null,
      "metadata": {
        "colab": {
          "base_uri": "https://localhost:8080/"
        },
        "id": "VBnjH28E-bEK",
        "outputId": "c69e7172-b1cd-4815-91c7-b8fcbd89f529"
      },
      "outputs": [],
      "source": [
        "list(a.columns)"
      ]
    },
    {
      "cell_type": "code",
      "execution_count": null,
      "metadata": {
        "colab": {
          "base_uri": "https://localhost:8080/",
          "height": 226
        },
        "id": "CkC_87lX-fX0",
        "outputId": "8a82ad94-d77b-4e3c-c7a7-3e70e9080624"
      },
      "outputs": [],
      "source": [
        "encoded_cols = [col + '_new' for col in cat_cols]\n",
        "remaining_cols = [col for col in a.columns if col not in cat_cols and col not in encoded_cols]\n",
        "final_df = a[remaining_cols + encoded_cols]\n",
        "(final_df.head())\n"
      ]
    },
    {
      "cell_type": "code",
      "execution_count": null,
      "metadata": {
        "colab": {
          "base_uri": "https://localhost:8080/",
          "height": 147
        },
        "id": "XzmoTPXZ-iIx",
        "outputId": "dea43cc8-b162-483f-f36a-0f01da3b1ec0"
      },
      "outputs": [],
      "source": [
        "a.head(1)"
      ]
    },
    {
      "cell_type": "code",
      "execution_count": null,
      "metadata": {
        "colab": {
          "base_uri": "https://localhost:8080/",
          "height": 449
        },
        "id": "9r00r7XY-kBC",
        "outputId": "cf56af68-5c2a-4642-986e-00e5b5aa716d"
      },
      "outputs": [],
      "source": [
        "sns.countplot(x='gender',data=a)\n",
        "plt.show()"
      ]
    },
    {
      "cell_type": "code",
      "execution_count": null,
      "metadata": {
        "colab": {
          "base_uri": "https://localhost:8080/",
          "height": 449
        },
        "id": "G8nVvXe7-05n",
        "outputId": "a4c024b0-af3e-4d11-8722-71e77922bace"
      },
      "outputs": [],
      "source": [
        "a['totalcharges'] = pd.to_numeric(a['totalcharges'], errors='coerce')\n",
        "a.dropna(subset=['totalcharges'], inplace=True)\n",
        "sns.histplot(x='totalcharges',data=a)\n",
        "plt.show()"
      ]
    },
    {
      "cell_type": "code",
      "execution_count": null,
      "metadata": {
        "colab": {
          "base_uri": "https://localhost:8080/",
          "height": 449
        },
        "id": "OdITlHeu_DU-",
        "outputId": "e0edac53-cc6d-4710-abda-7c999c96ceed"
      },
      "outputs": [],
      "source": [
        "sns.boxplot(x='paperlessbilling',y='monthlycharges',data=a)\n",
        "plt.show()"
      ]
    },
    {
      "cell_type": "code",
      "execution_count": null,
      "metadata": {
        "colab": {
          "base_uri": "https://localhost:8080/",
          "height": 449
        },
        "id": "YKY5oSsN_O8X",
        "outputId": "68c6b4a9-3012-4a2e-a03d-6dd0f439b703"
      },
      "outputs": [],
      "source": [
        "sns.scatterplot(x='totalcharges',y='monthlycharges',data=a)\n",
        "plt.show()"
      ]
    },
    {
      "cell_type": "code",
      "execution_count": null,
      "metadata": {
        "colab": {
          "base_uri": "https://localhost:8080/",
          "height": 449
        },
        "id": "hJtx0hdX_XsD",
        "outputId": "267c52d3-5621-4c44-dc4f-1f506f12e2f6"
      },
      "outputs": [],
      "source": [
        "sns.countplot(x='internetservice',data=a)\n",
        "plt.show()"
      ]
    },
    {
      "cell_type": "code",
      "execution_count": null,
      "metadata": {
        "id": "-qhTQfgcBBjS"
      },
      "outputs": [],
      "source": [
        "def tenure_group(tenure):\n",
        "    if tenure <= 12:\n",
        "        return '0-1 year'\n",
        "    elif tenure <= 24:\n",
        "        return '1-2 years'\n",
        "    elif tenure <= 48:\n",
        "        return '2-4 years'\n",
        "    elif tenure <= 60:\n",
        "        return '4-5 years'\n",
        "    else:\n",
        "        return '5+ years'\n",
        "\n",
        "a['tenure_group'] = a['tenure'].apply(tenure_group)\n"
      ]
    },
    {
      "cell_type": "code",
      "execution_count": null,
      "metadata": {
        "id": "CdOTKeMiBW5b"
      },
      "outputs": [],
      "source": [
        "service_cols = ['phoneservice', 'internetservice', 'onlinesecurity',\n",
        "                'onlinebackup', 'deviceprotection', 'techsupport',\n",
        "                'streamingtv', 'streamingmovies']\n",
        "\n",
        "a['num_services'] = a[service_cols].apply(lambda row: sum(row == 'Yes'), axis=1)"
      ]
    },
    {
      "cell_type": "code",
      "execution_count": null,
      "metadata": {
        "id": "9vYQsBeGBZLt"
      },
      "outputs": [],
      "source": [
        "def secure_internet(row):\n",
        "    if row['internetservice'] != 'No' and row['onlinesecurity'] == 'Yes':\n",
        "        return 'Secure'\n",
        "    elif row['internetservice'] != 'No':\n",
        "        return 'Unsecure'\n",
        "    else:\n",
        "        return 'No Internet'\n",
        "\n",
        "a['internet_security_status'] = a.apply(secure_internet, axis=1)"
      ]
    },
    {
      "cell_type": "code",
      "execution_count": null,
      "metadata": {
        "id": "dIiSHV8nBgA9"
      },
      "outputs": [],
      "source": [
        "def monthly_category(charge):\n",
        "    if charge < 35:\n",
        "        return 'Low'\n",
        "    elif charge < 70:\n",
        "        return 'Medium'\n",
        "    else:\n",
        "        return 'High'\n",
        "\n",
        "a['monthly_cost_group'] = a['monthlycharges'].apply(monthly_category)"
      ]
    },
    {
      "cell_type": "code",
      "execution_count": null,
      "metadata": {
        "colab": {
          "base_uri": "https://localhost:8080/",
          "height": 458
        },
        "id": "3vVm0715Blsd",
        "outputId": "9315b7e3-1700-4a1a-a4a8-0e9da8747323"
      },
      "outputs": [],
      "source": [
        "a['gender'].head(7043)"
      ]
    },
    {
      "cell_type": "code",
      "execution_count": null,
      "metadata": {
        "id": "Mod_851yBrP7"
      },
      "outputs": [],
      "source": [
        "from sklearn.model_selection import train_test_split\n",
        "X = a.drop('churn', axis=1)\n",
        "y = a['churn']\n",
        "X_train,X_test,y_train,y_test=train_test_split(X,y,test_size=0.2,random_state=42)"
      ]
    },
    {
      "cell_type": "code",
      "execution_count": null,
      "metadata": {
        "colab": {
          "base_uri": "https://localhost:8080/"
        },
        "id": "lEa8ZmMEBv2M",
        "outputId": "92f919f8-6f5c-4d33-b0b7-666f74315f27"
      },
      "outputs": [],
      "source": [
        "from sklearn.linear_model import LogisticRegression\n",
        "from sklearn.metrics import accuracy_score,classification_report,confusion_matrix\n",
        "from sklearn.preprocessing import OneHotEncoder\n",
        "\n",
        "# Select categorical columns\n",
        "categorical_cols = X_train.select_dtypes(include=['object']).columns\n",
        "\n",
        "# Apply one-hot encoding\n",
        "ohe = OneHotEncoder(handle_unknown='ignore', sparse_output=False)\n",
        "X_train_encoded = ohe.fit_transform(X_train[categorical_cols])\n",
        "X_test_encoded = ohe.transform(X_test[categorical_cols])\n",
        "\n",
        "# Get feature names after one-hot encoding\n",
        "encoded_cols = ohe.get_feature_names_out(categorical_cols)\n",
        "\n",
        "# Create new dataframes with encoded columns\n",
        "X_train_encoded_df = pd.DataFrame(X_train_encoded, columns=encoded_cols, index=X_train.index)\n",
        "X_test_encoded_df = pd.DataFrame(X_test_encoded, columns=encoded_cols, index=X_test.index)\n",
        "\n",
        "# Drop original categorical columns and concatenate with encoded columns\n",
        "X_train_processed = X_train.drop(columns=categorical_cols).join(X_train_encoded_df)\n",
        "X_test_processed = X_test.drop(columns=categorical_cols).join(X_test_encoded_df)\n",
        "\n",
        "lr = LogisticRegression(max_iter=1000)\n",
        "lr.fit(X_train_processed,y_train)\n",
        "y_pred=lr.predict(X_test_processed)\n",
        "print(accuracy_score(y_test,y_pred))\n",
        "print(confusion_matrix(y_test,y_pred))\n",
        "print(classification_report(y_test,y_pred))"
      ]
    },
    {
      "cell_type": "code",
      "execution_count": null,
      "metadata": {
        "colab": {
          "base_uri": "https://localhost:8080/"
        },
        "id": "lPLGbew1idnb",
        "outputId": "d8d2b53d-8a18-49ff-c588-9bd70e09e627"
      },
      "outputs": [],
      "source": [
        "print(f'Accuracy: {accuracy_score(y_test, y_pred)}')\n",
        "print(f'Confusion Matrix:\\n{confusion_matrix(y_test, y_pred)}')"
      ]
    },
    {
      "cell_type": "code",
      "execution_count": null,
      "metadata": {
        "colab": {
          "base_uri": "https://localhost:8080/"
        },
        "id": "987d5f07",
        "outputId": "2dd1bf7e-76ef-4a1d-fe93-a8ee1445172f"
      },
      "outputs": [],
      "source": [
        "from sklearn.ensemble import RandomForestClassifier\n",
        "\n",
        "# Create a Random Forest Classifier model\n",
        "rfc = RandomForestClassifier(random_state=42)\n",
        "\n",
        "# Train the model\n",
        "rfc.fit(X_train_processed, y_train)\n",
        "\n",
        "# Make predictions on the test set\n",
        "y_pred_rfc = rfc.predict(X_test_processed)\n",
        "\n",
        "# Evaluate the model\n",
        "print(\"Random Forest Classifier Results:\")\n",
        "print(f\"Accuracy: {accuracy_score(y_test, y_pred_rfc)}\")\n",
        "print(f\"Confusion Matrix:\\n{confusion_matrix(y_test, y_pred_rfc)}\")\n",
        "print(f\"Classification Report:\\n{classification_report(y_test, y_pred_rfc)}\")"
      ]
    },
    {
      "cell_type": "code",
      "execution_count": null,
      "metadata": {
        "colab": {
          "base_uri": "https://localhost:8080/",
          "height": 178
        },
        "id": "oA_LZnbUm4wq",
        "outputId": "f5e5395d-efc6-4534-dcd6-f79eeb79ba20"
      },
      "outputs": [],
      "source": [
        "a['churn'].value_counts(normalize=True)"
      ]
    },
    {
      "cell_type": "code",
      "execution_count": null,
      "metadata": {
        "colab": {
          "base_uri": "https://localhost:8080/",
          "height": 472
        },
        "id": "u00WfEWZlk0c",
        "outputId": "a92bca05-a4b3-4093-e887-bc0e4e6acc0b"
      },
      "outputs": [],
      "source": [
        "sns.countplot(x='churn', data=a)\n",
        "plt.title(\"Churn Distribution\")\n",
        "plt.show()"
      ]
    },
    {
      "cell_type": "code",
      "execution_count": null,
      "metadata": {
        "colab": {
          "base_uri": "https://localhost:8080/",
          "height": 193
        },
        "id": "SYjwOaMsXeSy",
        "outputId": "bbf0a845-d3de-43c7-b634-9c646ee6dffc"
      },
      "outputs": [],
      "source": [
        "a.groupby('churn').mean(numeric_only=True)\n"
      ]
    },
    {
      "cell_type": "code",
      "execution_count": null,
      "metadata": {
        "colab": {
          "base_uri": "https://localhost:8080/"
        },
        "id": "Ylv0mw1yXuao",
        "outputId": "fb8ffe5c-19bc-457e-8d02-91bd007cb099"
      },
      "outputs": [],
      "source": [
        "pip install imbalanced-learn"
      ]
    },
    {
      "cell_type": "code",
      "execution_count": null,
      "metadata": {
        "colab": {
          "base_uri": "https://localhost:8080/"
        },
        "id": "LNVrfLp0KhXr",
        "outputId": "aa2c5f1f-a436-4c7e-c802-c81dd29dc799"
      },
      "outputs": [],
      "source": [
        "from imblearn.over_sampling import SMOTE\n",
        "smote = SMOTE(random_state=42)\n",
        "X_train_resampled, y_train_resampled = smote.fit_resample(X_train_processed, y_train)\n",
        "lr.fit(X_train_resampled, y_train_resampled)\n",
        "y_pred=lr.predict(X_test_processed)\n",
        "print(accuracy_score(y_test,y_pred))\n",
        "print(confusion_matrix(y_test,y_pred))\n",
        "print(classification_report(y_test,y_pred))"
      ]
    },
    {
      "cell_type": "code",
      "execution_count": null,
      "metadata": {
        "colab": {
          "base_uri": "https://localhost:8080/",
          "height": 487
        },
        "id": "8MYODy9JN31Z",
        "outputId": "ab2c0a73-3d45-4ef1-9078-501d2b30043a"
      },
      "outputs": [],
      "source": [
        "import matplotlib.pyplot as plt\n",
        "from sklearn.metrics import precision_score, recall_score, f1_score, roc_auc_score\n",
        "\n",
        "y_proba = lr.predict_proba(X_test_processed)[:, 1]\n",
        "metrics = {\n",
        "    \"Accuracy\": accuracy_score(y_test, y_pred),\n",
        "    \"Precision\": precision_score(y_test, y_pred, pos_label='Yes'),\n",
        "    \"Recall\": recall_score(y_test, y_pred, pos_label='Yes'),\n",
        "    \"F1 Score\": f1_score(y_test, y_pred, pos_label='Yes'),\n",
        "    \"ROC-AUC\": roc_auc_score(y_test, y_proba)\n",
        "}\n",
        "\n",
        "plt.bar(metrics.keys(), metrics.values(), color='skyblue')\n",
        "plt.title(\"Model Performance Metrics\")\n",
        "plt.ylim(0, 1)\n",
        "plt.ylabel(\"Score\")\n",
        "plt.xticks(rotation=45)\n",
        "plt.grid(axis='y')\n",
        "plt.tight_layout()\n",
        "plt.show()"
      ]
    },
    {
      "cell_type": "code",
      "execution_count": null,
      "metadata": {
        "colab": {
          "base_uri": "https://localhost:8080/",
          "height": 472
        },
        "id": "lwX-n_lZPK4N",
        "outputId": "606623c7-5a3f-437f-a0f4-a72422ec05fb"
      },
      "outputs": [],
      "source": [
        "import seaborn as sns\n",
        "from sklearn.metrics import confusion_matrix\n",
        "\n",
        "cm = confusion_matrix(y_test, y_pred)\n",
        "sns.heatmap(cm, annot=True, fmt=\"d\", cmap=\"Blues\", xticklabels=['No Churn','Churn'], yticklabels=['No Churn','Churn'])\n",
        "plt.xlabel(\"Predicted\")\n",
        "plt.ylabel(\"Actual\")\n",
        "plt.title(\"Confusion Matrix\")\n",
        "plt.show()"
      ]
    },
    {
      "cell_type": "code",
      "execution_count": null,
      "metadata": {
        "colab": {
          "base_uri": "https://localhost:8080/",
          "height": 472
        },
        "id": "A6gjTIpFPVtZ",
        "outputId": "32d4464f-ff1a-43f9-fbeb-5b4dcdcfbec4"
      },
      "outputs": [],
      "source": [
        "from sklearn.metrics import PrecisionRecallDisplay\n",
        "from sklearn.preprocessing import LabelEncoder\n",
        "\n",
        "le = LabelEncoder()\n",
        "y_test_encoded = le.fit_transform(y_test)\n",
        "\n",
        "PrecisionRecallDisplay.from_predictions(y_test_encoded, y_proba, pos_label=1)\n",
        "plt.title(\"Precision-Recall Curve\")\n",
        "plt.grid(True)\n",
        "plt.show()"
      ]
    },
    {
      "cell_type": "code",
      "execution_count": null,
      "metadata": {
        "colab": {
          "base_uri": "https://localhost:8080/",
          "height": 527
        },
        "id": "6R8bBsrBPgGv",
        "outputId": "b674f20e-a91e-45e2-dcb2-2b510ef65db4"
      },
      "outputs": [],
      "source": [
        "from sklearn.metrics import RocCurveDisplay\n",
        "\n",
        "RocCurveDisplay.from_predictions(y_test, y_proba, pos_label=1)\n",
        "plt.title(\"ROC Curve\")\n",
        "plt.grid(True)\n",
        "plt.show()"
      ]
    },
    {
      "cell_type": "code",
      "execution_count": null,
      "metadata": {
        "colab": {
          "base_uri": "https://localhost:8080/",
          "height": 743
        },
        "id": "n7G8oXnDPwso",
        "outputId": "e4b7cd3b-c0b1-4863-ecd7-68ad094d8a5b"
      },
      "outputs": [],
      "source": [
        "# Example: check correlation\n",
        "a.corr(numeric_only=True)['churn_new'].sort_values(ascending=False)"
      ]
    },
    {
      "cell_type": "code",
      "execution_count": null,
      "metadata": {
        "colab": {
          "base_uri": "https://localhost:8080/"
        },
        "id": "iQWgLsmRQ26y",
        "outputId": "44cb855f-7466-43a9-dbeb-b38cb6e7d048"
      },
      "outputs": [],
      "source": [
        "import gc\n",
        "gc.collect()"
      ]
    },
    {
      "cell_type": "code",
      "execution_count": null,
      "metadata": {
        "id": "xqEykROWVSX7"
      },
      "outputs": [],
      "source": [
        "import lightgbm as lgb\n",
        "import xgboost as xgb"
      ]
    },
    {
      "cell_type": "code",
      "execution_count": null,
      "metadata": {
        "colab": {
          "base_uri": "https://localhost:8080/"
        },
        "id": "3e42ad12",
        "outputId": "d67ad44a-cf1f-40ed-b069-fd0ebc676adc"
      },
      "outputs": [],
      "source": [
        "from sklearn.model_selection import train_test_split\n",
        "from sklearn.preprocessing import OneHotEncoder, LabelEncoder\n",
        "from sklearn.metrics import accuracy_score, classification_report\n",
        "import xgboost as xgb\n",
        "\n",
        "X = a.drop('churn', axis=1)\n",
        "y = a['churn']\n",
        "\n",
        "le = LabelEncoder()\n",
        "y_encoded = le.fit_transform(y)\n",
        "\n",
        "X_train,X_test,y_train,y_test=train_test_split(X,y_encoded,test_size=0.2,random_state=42)\n",
        "\n",
        "# Select categorical columns\n",
        "categorical_cols = X_train.select_dtypes(include=['object']).columns\n",
        "\n",
        "# Apply one-hot encoding\n",
        "ohe = OneHotEncoder(handle_unknown='ignore', sparse_output=False)\n",
        "X_train_encoded = ohe.fit_transform(X_train[categorical_cols])\n",
        "X_test_encoded = ohe.transform(X_test[categorical_cols])\n",
        "\n",
        "# Get feature names after one-hot encoding\n",
        "encoded_cols = ohe.get_feature_names_out(categorical_cols)\n",
        "\n",
        "# Create new dataframes with encoded columns\n",
        "X_train_encoded_df = pd.DataFrame(X_train_encoded, columns=encoded_cols, index=X_train.index)\n",
        "X_test_encoded_df = pd.DataFrame(X_test_encoded, columns=encoded_cols, index=X_test.index)\n",
        "\n",
        "# Drop original categorical columns and concatenate with encoded columns\n",
        "X_train_processed = X_train.drop(columns=categorical_cols).join(X_train_encoded_df)\n",
        "X_test_processed = X_test.drop(columns=categorical_cols).join(X_test_encoded_df)\n",
        "\n",
        "# Create an XGBoost classifier model\n",
        "xgb_model = xgb.XGBClassifier(random_state=42)\n",
        "\n",
        "# Train the model\n",
        "xgb_model.fit(X_train_processed, y_train)\n",
        "\n",
        "# Make predictions on the test set\n",
        "y_pred_xgb = xgb_model.predict(X_test_processed)\n",
        "\n",
        "# Evaluate the model\n",
        "print(\"XGBoost Classifier Results:\")\n",
        "print(f\"Accuracy: {accuracy_score(y_test, y_pred_xgb)}\")\n",
        "print(f\"Classification Report:\\n{classification_report(y_test, y_pred_xgb)}\")"
      ]
    },
    {
      "cell_type": "code",
      "execution_count": null,
      "metadata": {
        "colab": {
          "base_uri": "https://localhost:8080/",
          "height": 254
        },
        "id": "ynBhFrxOXrBJ",
        "outputId": "cad14d7c-1b8c-43e0-e8b7-a4bda55dabba"
      },
      "outputs": [],
      "source": [
        "from xgboost import XGBClassifier\n",
        "XGBClassifier(max_depth=3, learning_rate=0.05, n_estimators=100)"
      ]
    },
    {
      "cell_type": "code",
      "execution_count": null,
      "metadata": {
        "colab": {
          "base_uri": "https://localhost:8080/"
        },
        "id": "Vh4rMjzAY3dX",
        "outputId": "d41b2522-684f-483d-b293-42eb67169b5b"
      },
      "outputs": [],
      "source": [
        "from sklearn.model_selection import train_test_split\n",
        "from sklearn.metrics import accuracy_score, classification_report\n",
        "import xgboost as xgb\n",
        "\n",
        "# Split data for early stopping\n",
        "X_train_part, X_val, y_train_part, y_val = train_test_split(X_train_processed, y_train, test_size=0.2, random_state=42)\n",
        "\n",
        "model = xgb.XGBClassifier(\n",
        "    max_depth=3,\n",
        "    learning_rate=0.05,\n",
        "    n_estimators=100,\n",
        "    objective='binary:logistic',\n",
        "    eval_metric='logloss',\n",
        "    early_stopping_rounds=10,  # stop if no improvement for 10 rounds\n",
        "    random_state=42\n",
        ")\n",
        "\n",
        "model.fit(\n",
        "    X_train_part, y_train_part,\n",
        "    eval_set=[(X_val, y_val)],\n",
        "    verbose=False\n",
        ")\n",
        "\n",
        "# Make predictions on the test set\n",
        "y_pred_xgb_tuned = model.predict(X_test_processed)\n",
        "\n",
        "# Evaluate the model\n",
        "print(\"Tuned XGBoost Classifier Results:\")\n",
        "print(f\"Accuracy: {accuracy_score(y_test, y_pred_xgb_tuned)}\")\n",
        "print(f\"Classification Report:\\n{classification_report(y_test, y_pred_xgb_tuned)}\")"
      ]
    },
    {
      "cell_type": "code",
      "execution_count": null,
      "metadata": {
        "id": "2GbPl4qAZXom"
      },
      "outputs": [],
      "source": []
    },
    {
      "cell_type": "code",
      "execution_count": null,
      "metadata": {
        "colab": {
          "base_uri": "https://localhost:8080/"
        },
        "id": "87982b85",
        "outputId": "3c46bccf-5d20-4d61-e5a9-61b66ecab1a1"
      },
      "outputs": [],
      "source": [
        "from sklearn.model_selection import train_test_split\n",
        "from sklearn.metrics import accuracy_score, classification_report\n",
        "import xgboost as xgb\n",
        "\n",
        "# Split data for early stopping\n",
        "X_train_part, X_val, y_train_part, y_val = train_test_split(X_train_processed, y_train, test_size=0.2, random_state=42)\n",
        "\n",
        "model = xgb.XGBClassifier(\n",
        "    max_depth=3,\n",
        "    learning_rate=0.05,\n",
        "    n_estimators=100,\n",
        "    objective='binary:logistic',\n",
        "    eval_metric='logloss',\n",
        "    early_stopping_rounds=10,  # stop if no improvement for 10 rounds\n",
        "    random_state=42\n",
        ")\n",
        "\n",
        "\n",
        "model.fit(\n",
        "    X_train_part, y_train_part,\n",
        "    eval_set=[(X_val, y_val)],\n",
        "    verbose=False\n",
        ")\n",
        "\n",
        "# Make predictions on the test set\n",
        "y_pred_xgb_tuned = model.predict(X_test_processed)\n",
        "\n",
        "# Evaluate the model\n",
        "print(\"Tuned XGBoost Classifier Results:\")\n",
        "print(f\"Accuracy: {accuracy_score(y_test, y_pred_xgb_tuned)}\")\n",
        "print(f\"Classification Report:\\n{classification_report(y_test, y_pred_xgb_tuned)}\")"
      ]
    },
    {
      "cell_type": "code",
      "execution_count": null,
      "metadata": {
        "colab": {
          "base_uri": "https://localhost:8080/"
        },
        "id": "ywobAnseZdW7",
        "outputId": "3673087a-79d8-48cf-e12f-222aca7df374"
      },
      "outputs": [],
      "source": [
        "from sklearn.model_selection import StratifiedKFold\n",
        "from sklearn.metrics import accuracy_score\n",
        "import numpy as np\n",
        "\n",
        "cv = StratifiedKFold(n_splits=5, shuffle=True, random_state=42)\n",
        "scores = []\n",
        "\n",
        "for train_idx, val_idx in cv.split(X_train_processed, y_train):\n",
        "    X_train_fold, X_val_fold = X_train_processed.iloc[train_idx], X_train_processed.iloc[val_idx]\n",
        "    y_train_fold, y_val_fold = y_train[train_idx], y_train[val_idx]\n",
        "\n",
        "    model.fit(\n",
        "        X_train_fold, y_train_fold,\n",
        "        eval_set=[(X_val_fold, y_val_fold)],\n",
        "        verbose=False\n",
        "    )\n",
        "\n",
        "    y_pred_fold = model.predict(X_val_fold)\n",
        "    scores.append(accuracy_score(y_val_fold, y_pred_fold))\n",
        "\n",
        "print(f'Cross-validated accuracy: {np.mean(scores)}')"
      ]
    },
    {
      "cell_type": "code",
      "execution_count": null,
      "metadata": {
        "colab": {
          "base_uri": "https://localhost:8080/"
        },
        "id": "8PCqkBrLZ6a-",
        "outputId": "f8e37505-6014-401c-8ef1-da8e4fba5360"
      },
      "outputs": [],
      "source": [
        "(a.duplicated().sum())"
      ]
    },
    {
      "cell_type": "code",
      "execution_count": null,
      "metadata": {
        "id": "8RgOQbHjVKmv"
      },
      "outputs": [],
      "source": [
        "a = a.drop_duplicates().dropna()\n"
      ]
    },
    {
      "cell_type": "code",
      "execution_count": null,
      "metadata": {
        "colab": {
          "base_uri": "https://localhost:8080/"
        },
        "id": "K2WUA2w8V-1m",
        "outputId": "1e40ed1e-a020-46ba-9a96-0a67e39089fb"
      },
      "outputs": [],
      "source": [
        "(a.duplicated().sum())"
      ]
    },
    {
      "cell_type": "code",
      "execution_count": null,
      "metadata": {
        "colab": {
          "base_uri": "https://localhost:8080/"
        },
        "id": "UEXp51MbWBU2",
        "outputId": "1249d805-5ad3-4c18-bf63-b2b49031a863"
      },
      "outputs": [],
      "source": [
        "from sklearn.model_selection import StratifiedKFold\n",
        "from sklearn.metrics import accuracy_score\n",
        "import numpy as np\n",
        "\n",
        "cv = StratifiedKFold(n_splits=5, shuffle=True, random_state=42)\n",
        "scores = []\n",
        "\n",
        "for train_idx, val_idx in cv.split(X_train_processed, y_train):\n",
        "    X_train_fold, X_val_fold = X_train_processed.iloc[train_idx], X_train_processed.iloc[val_idx]\n",
        "    y_train_fold, y_val_fold = y_train[train_idx], y_train[val_idx]\n",
        "\n",
        "    model.fit(\n",
        "        X_train_fold, y_train_fold,\n",
        "        eval_set=[(X_val_fold, y_val_fold)],\n",
        "        verbose=False\n",
        "    )\n",
        "\n",
        "    y_pred_fold = model.predict(X_val_fold)\n",
        "    scores.append(accuracy_score(y_val_fold, y_pred_fold))\n",
        "\n",
        "print(f'Cross-validated accuracy: {np.mean(scores)}')"
      ]
    },
    {
      "cell_type": "code",
      "execution_count": null,
      "metadata": {
        "colab": {
          "base_uri": "https://localhost:8080/"
        },
        "id": "7NxEY4DPWD2V",
        "outputId": "a5e7562d-4178-48df-ed85-98d004cf50da"
      },
      "outputs": [],
      "source": [
        "a.shape"
      ]
    },
    {
      "cell_type": "code",
      "execution_count": null,
      "metadata": {
        "colab": {
          "base_uri": "https://localhost:8080/"
        },
        "id": "5dPhwS33WRje",
        "outputId": "85bdfe9f-5e8a-4782-ece1-3291b5d3f360"
      },
      "outputs": [],
      "source": [
        "from sklearn.model_selection import train_test_split\n",
        "from sklearn.metrics import classification_report\n",
        "from sklearn.preprocessing import OneHotEncoder\n",
        "import xgboost as xgb\n",
        "\n",
        "X = a.drop(['churn', 'churn_new'], axis=1)\n",
        "y = a['churn_new']\n",
        "\n",
        "X_train, X_test, y_train, y_test = train_test_split(X, y, test_size=0.3, random_state=42)\n",
        "\n",
        "# Select categorical columns\n",
        "categorical_cols = X_train.select_dtypes(include=['object']).columns\n",
        "\n",
        "# Apply one-hot encoding\n",
        "ohe = OneHotEncoder(handle_unknown='ignore', sparse_output=False)\n",
        "X_train_encoded = ohe.fit_transform(X_train[categorical_cols])\n",
        "X_test_encoded = ohe.transform(X_test[categorical_cols])\n",
        "\n",
        "# Get feature names after one-hot encoding\n",
        "encoded_cols = ohe.get_feature_names_out(categorical_cols)\n",
        "\n",
        "# Create new dataframes with encoded columns\n",
        "X_train_processed = pd.DataFrame(X_train_encoded, columns=encoded_cols, index=X_train.index)\n",
        "X_test_processed = pd.DataFrame(X_test_encoded, columns=encoded_cols, index=X_test.index)\n",
        "\n",
        "# Drop original categorical columns and concatenate with encoded columns\n",
        "X_train_processed = X_train.drop(columns=categorical_cols).join(X_train_processed)\n",
        "X_test_processed = X_test.drop(columns=categorical_cols).join(X_test_processed)\n",
        "\n",
        "model = xgb.XGBClassifier(\n",
        "    max_depth=3,\n",
        "    learning_rate=0.05,\n",
        "    n_estimators=100,\n",
        "    objective='binary:logistic',\n",
        "    eval_metric='logloss',\n",
        "    random_state=42\n",
        ")\n",
        "\n",
        "model.fit(X_train_processed, y_train)\n",
        "y_pred = model.predict(X_test_processed)\n",
        "print(classification_report(y_test, y_pred))\n",
        "print(accuracy_score(y_test, y_pred))"
      ]
    },
    {
      "cell_type": "code",
      "execution_count": null,
      "metadata": {
        "colab": {
          "base_uri": "https://localhost:8080/",
          "height": 472
        },
        "id": "YjHh94UVWX3t",
        "outputId": "a6fe3f4e-96cf-46e1-c109-c14954c08e08"
      },
      "outputs": [],
      "source": [
        "import seaborn as sns\n",
        "from sklearn.metrics import confusion_matrix\n",
        "\n",
        "cm = confusion_matrix(y_test, y_pred)\n",
        "sns.heatmap(cm, annot=True, fmt=\"d\", cmap=\"Blues\", xticklabels=['No Churn','Churn'], yticklabels=['No Churn','Churn'])\n",
        "plt.xlabel(\"Predicted\")\n",
        "plt.ylabel(\"Actual\")\n",
        "plt.title(\"Confusion Matrix\")\n",
        "plt.show()"
      ]
    },
    {
      "cell_type": "code",
      "execution_count": null,
      "metadata": {
        "colab": {
          "base_uri": "https://localhost:8080/",
          "height": 472
        },
        "id": "pfsZrLNnXwgo",
        "outputId": "61b35d03-9b40-4df2-f00a-16a269c0edd5"
      },
      "outputs": [],
      "source": [
        "from sklearn.metrics import PrecisionRecallDisplay\n",
        "from sklearn.preprocessing import LabelEncoder\n",
        "\n",
        "y_proba = model.predict_proba(X_test_processed)[:, 1]\n",
        "\n",
        "le = LabelEncoder()\n",
        "y_test_encoded = le.fit_transform(y_test)\n",
        "\n",
        "PrecisionRecallDisplay.from_predictions(y_test_encoded, y_proba, pos_label=1)\n",
        "plt.title(\"Precision-Recall Curve\")\n",
        "plt.grid(True)\n",
        "plt.show()"
      ]
    },
    {
      "cell_type": "code",
      "execution_count": null,
      "metadata": {
        "id": "_qdBY2076r6z"
      },
      "outputs": [],
      "source": [
        "from sklearn.model_selection import GridSearchCV\n"
      ]
    },
    {
      "cell_type": "code",
      "execution_count": null,
      "metadata": {
        "colab": {
          "base_uri": "https://localhost:8080/"
        },
        "id": "zi37D3RIAeTE",
        "outputId": "a52910eb-d8f1-4a6a-cdb6-61c68d54c93d"
      },
      "outputs": [],
      "source": [
        "a.columns"
      ]
    },
    {
      "cell_type": "code",
      "execution_count": null,
      "metadata": {
        "id": "lPmWMXK0_lSV"
      },
      "outputs": [],
      "source": [
        "param_grid = {\n",
        "    'n_estimators': [100, 200],\n",
        "    'max_depth': [None, 10, 20],\n",
        "    'min_samples_split': [2, 5],\n",
        "    'min_samples_leaf': [1, 2]\n",
        "}\n"
      ]
    },
    {
      "cell_type": "code",
      "execution_count": null,
      "metadata": {
        "colab": {
          "base_uri": "https://localhost:8080/",
          "height": 253
        },
        "id": "WWcW6PEXA-UD",
        "outputId": "659ed3a0-dc3d-414e-d5e4-deb3ba86def3"
      },
      "outputs": [],
      "source": [
        "from sklearn.model_selection import GridSearchCV\n",
        "from sklearn.preprocessing import OneHotEncoder\n",
        "\n",
        "# Select categorical columns from the original training data\n",
        "categorical_cols = X_train.select_dtypes(include=['object']).columns\n",
        "\n",
        "# Apply one-hot encoding to the training data\n",
        "ohe = OneHotEncoder(handle_unknown='ignore', sparse_output=False)\n",
        "X_train_encoded = ohe.fit_transform(X_train[categorical_cols])\n",
        "\n",
        "# Create a new DataFrame with the encoded columns\n",
        "X_train_encoded_df = pd.DataFrame(X_train_encoded, columns=ohe.get_feature_names_out(categorical_cols), index=X_train.index)\n",
        "\n",
        "# Drop the original categorical columns and concatenate with the encoded columns\n",
        "X_train_processed = X_train.drop(columns=categorical_cols).join(X_train_encoded_df)\n",
        "\n",
        "\n",
        "grid_search = GridSearchCV(\n",
        "    estimator=model,\n",
        "    param_grid=param_grid,\n",
        "    scoring='accuracy',      # or 'roc_auc' for classification problems\n",
        "    cv=5,\n",
        "    n_jobs=-1,\n",
        "    verbose=2,\n",
        "    refit=True\n",
        ")\n",
        "\n",
        "grid_search.fit(X_train_processed, y_train)"
      ]
    },
    {
      "cell_type": "code",
      "execution_count": null,
      "metadata": {
        "colab": {
          "base_uri": "https://localhost:8080/"
        },
        "id": "tzSqxSodBEEz",
        "outputId": "acde6625-0305-4fd1-b5ae-40c403b1410f"
      },
      "outputs": [],
      "source": [
        "print(\"Best parameters:\", grid_search.best_params_)\n",
        "print(\"Best cross-validation accuracy:\", grid_search.best_score_)\n"
      ]
    },
    {
      "cell_type": "code",
      "execution_count": null,
      "metadata": {
        "colab": {
          "base_uri": "https://localhost:8080/"
        },
        "id": "VJ61m950BnJz",
        "outputId": "2a831f47-f967-4dc6-ccb6-0b94c70db799"
      },
      "outputs": [],
      "source": [
        "best_model = grid_search.best_estimator_\n",
        "\n",
        "# Apply one-hot encoding to the test data using the same fitted encoder\n",
        "X_test_encoded = ohe.transform(X_test[categorical_cols])\n",
        "X_test_encoded_df = pd.DataFrame(X_test_encoded, columns=ohe.get_feature_names_out(categorical_cols), index=X_test.index)\n",
        "X_test_processed = X_test.drop(columns=categorical_cols).join(X_test_encoded_df)\n",
        "\n",
        "y_pred = best_model.predict(X_test_processed)\n",
        "\n",
        "from sklearn.metrics import classification_report, confusion_matrix, roc_auc_score\n",
        "\n",
        "print(classification_report(y_test, y_pred))\n",
        "print(\"ROC AUC:\", roc_auc_score(y_test, best_model.predict_proba(X_test_processed)[:, 1]))"
      ]
    },
    {
      "cell_type": "code",
      "execution_count": null,
      "metadata": {
        "colab": {
          "base_uri": "https://localhost:8080/",
          "height": 53
        },
        "id": "ClT4wXxzCVfq",
        "outputId": "6ae391a4-036b-4d4a-b8a5-2a6f80ab578a"
      },
      "outputs": [],
      "source": [
        "\"\"\"Summary: Toolchain for Complex Chatbot\n",
        "Stage\tRecommended Tools/Frameworks\n",
        "Model training:\tscikit-learn, XGBoost, TensorFlow, PyTorch\n",
        "API backend:\tFastAPI, Flask\n",
        "Conversational AI:\tRasa, Dialogflow, LangChain\n",
        "Frontend UI:\tReact, Streamlit, Bot Framework\n",
        "Deployment:\tDocker, AWS, GCP\"\"\""
      ]
    },
    {
      "cell_type": "code",
      "execution_count": null,
      "metadata": {
        "id": "IpWXfhwdDm7h"
      },
      "outputs": [],
      "source": []
    }
  ],
  "metadata": {
    "colab": {
      "provenance": [],
      "toc_visible": true
    },
    "kernelspec": {
      "display_name": "base",
      "language": "python",
      "name": "python3"
    },
    "language_info": {
      "name": "python",
      "version": "3.12.7"
    }
  },
  "nbformat": 4,
  "nbformat_minor": 0
}
